{
 "cells": [
  {
   "cell_type": "code",
   "execution_count": 26,
   "metadata": {
    "collapsed": false
   },
   "outputs": [],
   "source": [
    "# -*- coding: <utf-8> -*-\n",
    "%matplotlib inline\n",
    "import numpy as np\n",
    "import matplotlib.pyplot as plt\n",
    "import pandas as pd\n",
    "import unidecode\n",
    "import csv \n",
    "import io\n",
    "\n",
    "\n"
   ]
  },
  {
   "cell_type": "code",
   "execution_count": 38,
   "metadata": {
    "collapsed": false
   },
   "outputs": [
    {
     "name": "stdout",
     "output_type": "stream",
     "text": [
      "n_samples : 4415\n"
     ]
    }
   ],
   "source": [
    "train_fname = 'train.csv'\n",
    "test_fname = 'test.csv'\n",
    "X = []\n",
    "y = []\n",
    "with io.open(train_fname, encoding = 'utf-8') as f:\n",
    "     for line in f: \n",
    "        line = line.replace(\"\\\\xa0\", \"\")\n",
    "        line = line.replace(\"\\\\n\", \"\")\n",
    "        line = line.lower()\n",
    "        y.append(int(line[0]))\n",
    "        X.append(line[5:-6])\n",
    "y = np.array(y)\n",
    "\n",
    "\n",
    "\n",
    "print('n_samples : %d' % len(X))"
   ]
  },
  {
   "cell_type": "code",
   "execution_count": 39,
   "metadata": {
    "collapsed": false
   },
   "outputs": [
    {
     "name": "stdout",
     "output_type": "stream",
     "text": [
      "Le taux de prédiction au niveau de la chance est : 0.694450736127\n"
     ]
    }
   ],
   "source": [
    "print(\"Le taux de prédiction au niveau de la chance est : %s\" % np.mean(y == 0))"
   ]
  },
  {
   "cell_type": "code",
   "execution_count": 62,
   "metadata": {
    "collapsed": false
   },
   "outputs": [],
   "source": [
    "wordContent = []\n",
    "wordCount = dict()\n",
    "import re\n",
    "regEx = re.compile('\\\\W*') # match any ~[A-Z0-9]\n",
    "for x in X:\n",
    "    for word in regEx.split(x):\n",
    "        if word in wordCount.keys():\n",
    "            wordCount[word] = wordCount[word] + 1\n",
    "        else:\n",
    "            wordCount[word] = 1\n",
    "\n"
   ]
  },
  {
   "cell_type": "code",
   "execution_count": 82,
   "metadata": {
    "collapsed": false
   },
   "outputs": [
    {
     "name": "stdout",
     "output_type": "stream",
     "text": [
      "set([u'all', u\"she'll\", u\"don't\", u'being', u'over', u'through', u'yourselves', u'its', u'before', u\"he's\", u\"when's\", u\"we've\", u'had', u'should', u\"he'd\", u'to', u'only', u\"there's\", u'those', u'under', u'has', u\"haven't\", u'do', u'them', u'his', u\"they'll\", u'very', u\"who's\", u\"they'd\", u'cannot', u\"you've\", u'they', u'not', u'during', u'yourself', u'him', u'nor', u\"we'll\", u'did', u\"they've\", u'this', u'she', u'each', u\"won't\", u'where', u\"mustn't\", u\"isn't\", u\"i'll\", u\"why's\", u'because', u\"you'd\", u'doing', u'some', u'up', u'are', u'further', u'out', u'what', u'for', u'while', u\"wasn't\", u'does', u\"shouldn't\", u'above', u'between', u'be', u'we', u'who', u\"you're\", u'were', u'here', u'hers', u\"aren't\", u'by', u'both', u'about', u'would', u'of', u'could', u'against', u\"i'd\", u\"weren't\", u\"i'm\", u'or', u\"can't\", u'own', u'into', u'whom', u'down', u\"hadn't\", u\"couldn't\", u'your', u\"doesn't\", u'from', u\"how's\", u'her', u'their', u\"it's\", u'there', u'been', u'why', u'few', u'too', u'themselves', u'was', u'until', u'more', u'himself', u\"where's\", u\"i've\", u'with', u\"didn't\", u\"what's\", u'but', u'ours\\tourselves', u'herself', u'than', u\"here's\", u'he', u'me', u\"they're\", u'myself', u'these', u\"hasn't\", u'below', u'ought', u'theirs', u'my', u\"wouldn't\", u\"we'd\", u'and', u'then', u'is', u'am', u'it', u'an', u'as', u'itself', u'at', u'have', u'in', u'any', u'if', u'again', u'no', u'that', u'when', u'same', u'how', u'other', u'which', u'you', u\"shan't\", u'our', u'after', u\"let's\", u'most', u'such', u'on', u\"he'll\", u'a', u'off', u'i', u\"she'd\", u'yours', u\"you'll\", u'so', u\"we're\", u\"she's\", u'the', u\"that's\", u'having', u'once'])\n"
     ]
    }
   ],
   "source": [
    "stopList = set()\n",
    "with io.open('stop_word.txt', newline = '\\n') as f:\n",
    "     for line in f: \n",
    "        line = line.strip()\n",
    "        stopList.add(line)\n",
    "print stopList"
   ]
  },
  {
   "cell_type": "code",
   "execution_count": 83,
   "metadata": {
    "collapsed": false
   },
   "outputs": [],
   "source": [
    "def filtre(wordCount, cirtere, stopList):\n",
    "    wordList = []\n",
    "    for key, value in wordCount.iteritems():\n",
    "        if key not in stopList and value > cirtere:\n",
    "            wordList.append(key)\n",
    "    return wordList\n",
    "            \n",
    "        \n",
    "    \n",
    "def words2Vectors(wordList, data):\n",
    "    vec = [0] * len(wordList)\n",
    "    for word in data:\n",
    "        if word in wordList:\n",
    "            vec[wordList.index(word)] = vec[wordList.index(word)] + 1 // +1\n",
    "    return vec\n",
    "\n",
    "def createWordList(wordContent):\n",
    "    # no word occur twice\n",
    "    wordSet = set()\n",
    "    for word in wordContent:\n",
    "        if word not in wordSet:\n",
    "            wordSet.add(word)\n",
    "    return list(wordSet)"
   ]
  },
  {
   "cell_type": "code",
   "execution_count": 58,
   "metadata": {
    "collapsed": false
   },
   "outputs": [],
   "source": [
    "wordList  = createWordList(wordContent)"
   ]
  },
  {
   "cell_type": "code",
   "execution_count": null,
   "metadata": {
    "collapsed": false
   },
   "outputs": [],
   "source": [
    "wordList = filtre(wordCount, 2, stopList)\n",
    "vectors = []\n",
    "for x in X:\n",
    "    vectors.append(words2Vectors(wordList, x))\n",
    "print vectors.shape"
   ]
  },
  {
   "cell_type": "code",
   "execution_count": null,
   "metadata": {
    "collapsed": true
   },
   "outputs": [],
   "source": []
  }
 ],
 "metadata": {
  "kernelspec": {
   "display_name": "Python 2",
   "language": "python",
   "name": "python2"
  },
  "language_info": {
   "codemirror_mode": {
    "name": "ipython",
    "version": 2
   },
   "file_extension": ".py",
   "mimetype": "text/x-python",
   "name": "python",
   "nbconvert_exporter": "python",
   "pygments_lexer": "ipython2",
   "version": "2.7.11"
  }
 },
 "nbformat": 4,
 "nbformat_minor": 0
}
