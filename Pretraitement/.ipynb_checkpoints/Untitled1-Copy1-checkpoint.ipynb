{
 "cells": [
  {
   "cell_type": "code",
   "execution_count": 2,
   "metadata": {
    "collapsed": true
   },
   "outputs": [],
   "source": [
    "import numpy as np"
   ]
  },
  {
   "cell_type": "code",
   "execution_count": 1,
   "metadata": {
    "collapsed": true
   },
   "outputs": [],
   "source": [
    "import numpy as np\n",
    "import \n",
    "# SVM PAR SMO (Sequential Minimal Optimization)\n",
    "# Da JU\n",
    "# algotithme platt SMO reference Machine Learning in action \n",
    "class SVM:\n",
    "    def __init__(self, X, y, C, tol):\n",
    "        # initial\n",
    "        self.X = X\n",
    "        self.y = y\n",
    "        self.C = c\n",
    "        self.tol = tol\n",
    "        self.alphas = np.zeros((self.m, 1))\n",
    "        self.b = 0\n",
    "        self.Cache = np.zeoros((self.m, 2)) # first col is flag, second col is the evalue\n",
    "        \n",
    "        def calcE(s,k):\n",
    "            fk = np.multiply(s.alphas, s.y).T.dot(s.X.dot(s.X[k,:].T)) + s.b\n",
    "            ek = fk - s.y[k]\n",
    "            return ek\n",
    "        \n",
    "        def selectJ(i ,s, e):\n",
    "            k_max = -1;\n",
    "            diffirence_e = 0;\n",
    "            ej = 0;\n",
    "        \n",
    "        \n",
    "        \n",
    "    "
   ]
  },
  {
   "cell_type": "code",
   "execution_count": null,
   "metadata": {
    "collapsed": true
   },
   "outputs": [],
   "source": []
  }
 ],
 "metadata": {
  "kernelspec": {
   "display_name": "Python 2",
   "language": "python",
   "name": "python2"
  },
  "language_info": {
   "codemirror_mode": {
    "name": "ipython",
    "version": 2
   },
   "file_extension": ".py",
   "mimetype": "text/x-python",
   "name": "python",
   "nbconvert_exporter": "python",
   "pygments_lexer": "ipython2",
   "version": "2.7.11"
  }
 },
 "nbformat": 4,
 "nbformat_minor": 0
}
