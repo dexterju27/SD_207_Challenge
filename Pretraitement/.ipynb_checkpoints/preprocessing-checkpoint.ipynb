{
 "cells": [
  {
   "cell_type": "markdown",
   "metadata": {},
   "source": [
    "### Attention\n",
    "#### Il faut installer enchant pour corriger des mots\n",
    "#### istaller nltk et aussi ajouer un wordnet en lancant  nltk.download()\n",
    "#### aussi j'ai remplace le ficher de stopswords par un autre version plus complete"
   ]
  },
  {
   "cell_type": "code",
   "execution_count": 5,
   "metadata": {
    "collapsed": false
   },
   "outputs": [],
   "source": [
    "# -*- coding: <utf-8> -*-\n",
    "## pip install pyenchant, ntlk\n",
    "%matplotlib inline\n",
    "import numpy as np\n",
    "import matplotlib.pyplot as plt\n",
    "import pandas as pd\n",
    "import unidecode\n",
    "import csv \n",
    "import io\n",
    "import nltk\n",
    "import string\n",
    "import re\n",
    "from nltk import wordpunct_tokenize\n",
    "from nltk import word_tokenize\n",
    "from nltk.tokenize import RegexpTokenizer\n",
    "from nltk import bigrams\n",
    "from nltk.stem.snowball import EnglishStemmer"
   ]
  },
  {
   "cell_type": "code",
   "execution_count": 6,
   "metadata": {
    "collapsed": false
   },
   "outputs": [
    {
     "name": "stdout",
     "output_type": "stream",
     "text": [
      "True\n"
     ]
    }
   ],
   "source": [
    "test =[1,2,3]\n",
    "print 1 in test"
   ]
  },
  {
   "cell_type": "code",
   "execution_count": 7,
   "metadata": {
    "collapsed": false
   },
   "outputs": [],
   "source": [
    "from nltk.corpus import wordnet\n",
    "# nltk.download()"
   ]
  },
  {
   "cell_type": "code",
   "execution_count": 8,
   "metadata": {
    "collapsed": false
   },
   "outputs": [],
   "source": [
    "def readdata(filename):\n",
    "    X=[]\n",
    "    y=[]\n",
    "    with io.open(filename, encoding = 'utf-8') as f:\n",
    "        for line in f:\n",
    "            y.append(line[0])\n",
    "            X.append(line[5:])\n",
    "    return y,X    "
   ]
  },
  {
   "cell_type": "code",
   "execution_count": 9,
   "metadata": {
    "collapsed": false
   },
   "outputs": [],
   "source": [
    "def wordreplace(word):\n",
    "    if wordnet.synsets(word):\n",
    "        return word\n",
    "    repl_word=re.compile(r'(\\w*)(\\w)\\2(\\w*)').sub(r'\\1\\2\\3',word)\n",
    "    if repl_word!=word:\n",
    "        return wordreplace(repl_word)\n",
    "    else:\n",
    "        return repl_word"
   ]
  },
  {
   "cell_type": "code",
   "execution_count": 10,
   "metadata": {
    "collapsed": false
   },
   "outputs": [],
   "source": [
    "def repeatreplace(tokenList):\n",
    "    for i in range(len(tokenList)): \n",
    "        word=tokenList[i]\n",
    "        word=wordreplace(word)\n",
    "        tokenList[i]=word\n",
    "    return tokenList"
   ]
  },
  {
   "cell_type": "code",
   "execution_count": 11,
   "metadata": {
    "collapsed": false
   },
   "outputs": [
    {
     "data": {
      "text/plain": [
       "['fuck', 'shit']"
      ]
     },
     "execution_count": 11,
     "metadata": {},
     "output_type": "execute_result"
    }
   ],
   "source": [
    "repeatreplace([\"fuuuuck\",\"shiittt\"])"
   ]
  },
  {
   "cell_type": "code",
   "execution_count": 12,
   "metadata": {
    "collapsed": false
   },
   "outputs": [],
   "source": [
    "def removehtmltags(line):    \n",
    "    p=re.compile(r\"<.*?>\")\n",
    "    line = p.sub(' ', line)\n",
    "    line = line.replace('&nbsp;',' ')   \n",
    "    return line"
   ]
  },
  {
   "cell_type": "code",
   "execution_count": 13,
   "metadata": {
    "collapsed": true
   },
   "outputs": [],
   "source": [
    "def removebadtoken(line):\n",
    "    rep = {'\\\\xa0': ' ', '\\\\xc2': ' ', '\\\\n': ' ', '\\r': ''}\n",
    "    rep = dict((re.escape(k), v) for k, v in rep.items())\n",
    "    pattern = re.compile(\"|\".join(rep.keys()))\n",
    "    line = pattern.sub(lambda m: rep[re.escape(m.group(0))], line)\n",
    "    return line   "
   ]
  },
  {
   "cell_type": "code",
   "execution_count": 14,
   "metadata": {
    "collapsed": false
   },
   "outputs": [],
   "source": [
    "def Tokenization(line):\n",
    "    line=line.lower()\n",
    "    tokenlist = wordpunct_tokenize(line)\n",
    "    return tokenlist    "
   ]
  },
  {
   "cell_type": "code",
   "execution_count": 15,
   "metadata": {
    "collapsed": true
   },
   "outputs": [],
   "source": [
    "def removestopwords(tokenList):\n",
    "    stopwordList=np.genfromtxt('stopwords.txt',dtype='str')\n",
    "    filteredWords = [w for w in tokenList if not w in stopwordList]\n",
    "    return filteredWords    "
   ]
  },
  {
   "cell_type": "code",
   "execution_count": 16,
   "metadata": {
    "collapsed": true
   },
   "outputs": [],
   "source": [
    "def commentnormalizer(line):\n",
    "    line = \"\".join([ch for ch in line if ch not in string.punctuation])\n",
    "    line = re.sub(\"\\\\d+(\\\\.\\\\d+)?\", \"NUM\", line)\n",
    "    return line"
   ]
  },
  {
   "cell_type": "code",
   "execution_count": 17,
   "metadata": {
    "collapsed": true
   },
   "outputs": [],
   "source": [
    "def commentStemmer(tokenList):\n",
    "    stemmer = EnglishStemmer()\n",
    "    for i in range(len(tokenList)):\n",
    "        tokenList[i] = stemmer.stem(tokenList[i])\n",
    "    return tokenList "
   ]
  },
  {
   "cell_type": "code",
   "execution_count": 18,
   "metadata": {
    "collapsed": true
   },
   "outputs": [],
   "source": [
    "import enchant\n",
    "from nltk.metrics import edit_distance\n",
    "def commentcorrect(tokenList):\n",
    "    dict_name=\"en\"\n",
    "    spell_dict=enchant.Dict(dict_name)\n",
    "    max_dist=2\n",
    "    for i in range(0,len(tokenList)):\n",
    "        if spell_dict.check(tokenList[i]):\n",
    "            tokenList[i]=tokenList[i]\n",
    "        else:\n",
    "            suggestions=spell_dict.suggest(tokenList[i])\n",
    "            if suggestions and edit_distance(tokenList[i],suggestions[0])<=max_dist:\n",
    "                tokenList[i]=suggestions[0]\n",
    "            else:\n",
    "                tokenList[i]=tokenList[i]\n",
    "    return tokenList        "
   ]
  },
  {
   "cell_type": "code",
   "execution_count": 19,
   "metadata": {
    "collapsed": false
   },
   "outputs": [
    {
     "data": {
      "text/plain": [
       "['shit', 'language']"
      ]
     },
     "execution_count": 19,
     "metadata": {},
     "output_type": "execute_result"
    }
   ],
   "source": [
    "commentcorrect([\"sh?t\",\"languege\"])"
   ]
  },
  {
   "cell_type": "code",
   "execution_count": 24,
   "metadata": {
    "collapsed": false
   },
   "outputs": [],
   "source": [
    "## badwords in the bad words list\n",
    "badList = []\n",
    "def encountebadwords(tokenList):  \n",
    "    \n",
    "\n",
    "    with io.open('badwords.txt', newline = '\\n') as f:\n",
    "         for line in f:     \n",
    "            badList.append(line[:len(line)-1])\n",
    "#     badList=commentcorrect(badList)\n",
    "#     badList=repeatreplace(badList)\n",
    "#     c=0\n",
    "#     for w in badList:\n",
    "#         if wordnet.synsets(w):\n",
    "#             print \"true\",w\n",
    "#             c=c+1             \n",
    "#         else:\n",
    "#             print w\n",
    "#     print c\n",
    "#     print len(badList)\n",
    "    count=0\n",
    "    for w in tokenList:\n",
    "        if w in badList:\n",
    "            count=count+1\n",
    "    return  count"
   ]
  },
  {
   "cell_type": "code",
   "execution_count": 25,
   "metadata": {
    "collapsed": false
   },
   "outputs": [
    {
     "data": {
      "text/plain": [
       "2"
      ]
     },
     "execution_count": 25,
     "metadata": {},
     "output_type": "execute_result"
    }
   ],
   "source": [
    "encountebadwords([\"fuck\",\"shit\"])"
   ]
  },
  {
   "cell_type": "markdown",
   "metadata": {},
   "source": [
    "# exemple pour utiliser les fonctions"
   ]
  },
  {
   "cell_type": "code",
   "execution_count": 28,
   "metadata": {
    "collapsed": true
   },
   "outputs": [],
   "source": [
    "def processingtrain(filename):\n",
    "    y,X=readdata(filename)\n",
    "    Count=[]\n",
    "    for i in range(0,len(X)):\n",
    "        lines=removehtmltags(X[i])\n",
    "        lines=removebadtoken(lines)\n",
    "        lines=commentnormalizer(lines)\n",
    "        lines=Tokenization(lines) \n",
    "        lines=removestopwords(lines)\n",
    "        lines=repeatreplace(lines)\n",
    "        lines=commentcorrect(lines)\n",
    "        lines=commentStemmer(lines)\n",
    "        countbad =encountebadwords(lines)\n",
    "        Count.append(countbad)\n",
    "        X[i]=lines\n",
    "    return y,X,Count\n",
    "    "
   ]
  },
  {
   "cell_type": "code",
   "execution_count": 29,
   "metadata": {
    "collapsed": false
   },
   "outputs": [],
   "source": [
    "y,X,C=processingtrain(\"train.csv\")"
   ]
  },
  {
   "cell_type": "code",
   "execution_count": null,
   "metadata": {
    "collapsed": true
   },
   "outputs": [],
   "source": [
    "def readTestFile(test_fname):\n",
    "    with io.open(test_fname, encoding = 'utf-8') as f:\n",
    "         for line in f: \n",
    "            line = line.replace(\"\\\\xa0\", \"\")\n",
    "            line = line.replace(\"\\\\n\", \"\")\n",
    "            line = line.lower()\n",
    "            test.append(line)\n",
    "    print test[0]\n",
    "    return test\n",
    "\n",
    "def processingTest(test_fname):\n",
    "    X = test_fname(test_fname)\n",
    "    Count=[]\n",
    "    for i in range(0,len(X)):\n",
    "        lines=removehtmltags(X[i])\n",
    "        lines=removebadtoken(lines)\n",
    "        lines=commentnormalizer(lines)\n",
    "        lines=Tokenization(lines) \n",
    "        lines=removestopwords(lines)\n",
    "        lines=repeatreplace(lines)\n",
    "        lines=commentcorrect(lines)\n",
    "        lines=commentStemmer(lines)\n",
    "        countbad =encountebadwords(lines)\n",
    "        Count.append(countbad)\n",
    "        X[i]=lines\n",
    "    return X,Count"
   ]
  },
  {
   "cell_type": "code",
   "execution_count": 30,
   "metadata": {
    "collapsed": false
   },
   "outputs": [
    {
     "name": "stdout",
     "output_type": "stream",
     "text": [
      "[u'0', u'0', u'0', u'0', u'0', u'0', u'1', u'0', u'1', u'0'] [0, 1, 0, 0, 0, 0, 0, 0, 0, 2]\n",
      "[u'imagin', u'sanction', u'forev', u'hear', u'ea', u'regul', u'hide', u'pretenc', u'friend', u'nuclear', u'energi', u'um', u'day', u'inspector', u'quit', u'kill', u'civilian', u'respect', u'border', u'right', u'neighbour', u'countri', u'shut', u'nuclear', u'plant', u'monitor', u'system', u'fanci', u'water', u'treatment', u'plant', u'earli', u'warn', u'sandstorm', u'system', u'traffic', u'light', u'major', u'citi', u'inki', u'finger', u'lip', u'edg', u'teenag', u'revolt', u'toppl', u'regim', u'disconnect', u'facebok', u'buwhahjahahaha']\n"
     ]
    }
   ],
   "source": [
    "print y[:10],C[:10]\n",
    "print X[0]\n",
    "C = np.array(C).reshape(len(C), 1)"
   ]
  },
  {
   "cell_type": "code",
   "execution_count": 77,
   "metadata": {
    "collapsed": false
   },
   "outputs": [
    {
     "name": "stdout",
     "output_type": "stream",
     "text": [
      "(4415, 1)\n"
     ]
    },
    {
     "data": {
      "text/plain": [
       "array([ 0.69429348,  0.69429348,  0.69340585])"
      ]
     },
     "execution_count": 77,
     "metadata": {},
     "output_type": "execute_result"
    }
   ],
   "source": [
    "from sklearn.cross_validation import cross_val_score\n",
    "clf = SVC(kernel='linear')\n",
    "print C.shape\n",
    "cross_val_score(clf, C, y)\n"
   ]
  },
  {
   "cell_type": "code",
   "execution_count": 32,
   "metadata": {
    "collapsed": false
   },
   "outputs": [],
   "source": [
    "# def words2Vectors(wordList, data):\n",
    "#     vec = [0] * len(wordList)\n",
    "#     for word in data:\n",
    "#         if word in wordList:\n",
    "#             vec[wordList.index(word)] = vec[wordList.index(word)] + 1 // +1\n",
    "#     return vec\n",
    "\n",
    "# def createWordList(wordContent):\n",
    "#     # no word occur twice\n",
    "#     wordSet = set()\n",
    "#     for word in wordContent:\n",
    "#         if word not in wordSet:\n",
    "#             wordSet.add(word)\n",
    "#     return list(wordSet)\n",
    "\n",
    "    \n",
    "def words2Vectors(wordList, data):\n",
    "    vec = [0] * len(wordList)\n",
    "    for word in data:\n",
    "        if word in wordList:\n",
    "            vec[wordList.index(word)] = vec[wordList.index(word)] + 1  + (word in badList) \n",
    "            # count bad words twice\n",
    "    return vec\n",
    "\n",
    "def createWordList(X):\n",
    "    wordContent = []\n",
    "    wordCount = dict()\n",
    "    for line in X:\n",
    "        for word in line:\n",
    "            if word in wordCount.keys():\n",
    "                wordCount[word] = wordCount[word] + 1 + (word in badList)\n",
    "            else:\n",
    "                wordCount[word] = 1 + (word in badList)\n",
    "\n",
    "    return wordCount.keys(), wordCount\n"
   ]
  },
  {
   "cell_type": "code",
   "execution_count": 33,
   "metadata": {
    "collapsed": false
   },
   "outputs": [],
   "source": [
    "wordList, wordCount = createWordList(X)\n",
    "vectors = []\n",
    "for x in X:\n",
    "    vectors.append(words2Vectors(wordList, x))"
   ]
  },
  {
   "cell_type": "code",
   "execution_count": null,
   "metadata": {
    "collapsed": false
   },
   "outputs": [],
   "source": [
    "from sklearn.pipeline import Pipeline, FeatureUnion\n",
    "from sklearn.grid_search import GridSearchCV\n",
    "from sklearn.svm import SVC\n",
    "from sklearn.feature_selection import chi2,SelectKBest\n",
    "clf = SVC(kernel='linear', gamma=2)\n",
    "select = SelectKBest(chi2)\n",
    "pipe = Pipeline(steps=[('chi2', select), ('SVM', clf)])\n",
    "para = {\"chi2__k\" : np.arange(50, 3100, 200)}\n",
    "estimator = GridSearchCV(pipe,para)\n",
    "estimator.fit(X_train_tf.toarray(), y)"
   ]
  },
  {
   "cell_type": "code",
   "execution_count": 52,
   "metadata": {
    "collapsed": false
   },
   "outputs": [
    {
     "name": "stdout",
     "output_type": "stream",
     "text": [
      "{'chi2__k': 50}\n"
     ]
    }
   ],
   "source": []
  },
  {
   "cell_type": "code",
   "execution_count": 34,
   "metadata": {
    "collapsed": false
   },
   "outputs": [],
   "source": [
    "from sklearn.feature_extraction.text import TfidfTransformer\n",
    "tf_transformer = TfidfTransformer(use_idf=False).fit(vectors)\n",
    "X_train_tf = tf_transformer.transform(vectors)"
   ]
  },
  {
   "cell_type": "code",
   "execution_count": 37,
   "metadata": {
    "collapsed": false
   },
   "outputs": [],
   "source": [
    "np.save(\"tf\",X_train_tf )"
   ]
  },
  {
   "cell_type": "code",
   "execution_count": 54,
   "metadata": {
    "collapsed": false
   },
   "outputs": [
    {
     "data": {
      "text/plain": [
       "GridSearchCV(cv=None, error_score='raise',\n",
       "       estimator=Pipeline(steps=[('pca', PCA(copy=True, n_components=None, whiten=False)), ('SVM', SVC(C=1.0, cache_size=200, class_weight=None, coef0=0.0,\n",
       "  decision_function_shape=None, degree=3, gamma=2, kernel='linear',\n",
       "  max_iter=-1, probability=False, random_state=None, shrinking=True,\n",
       "  tol=0.001, verbose=False))]),\n",
       "       fit_params={}, iid=True, n_jobs=1,\n",
       "       param_grid={'pca__n_components': array([  50,  250,  450,  650,  850, 1050, 1250, 1450, 1650, 1850, 2050,\n",
       "       2250, 2450, 2650, 2850, 3050])},\n",
       "       pre_dispatch='2*n_jobs', refit=True, scoring=None, verbose=0)"
      ]
     },
     "execution_count": 54,
     "metadata": {},
     "output_type": "execute_result"
    }
   ],
   "source": [
    "from sklearn.svm import SVC\n",
    "pca = PCA()\n",
    "clf = SVC(kernel='linear', gamma=2)\n",
    "\n",
    "pipe = Pipeline(steps=[('pca', pca), ('SVM', clf)])\n",
    "n_components = np.arange(50, 3100, 200)\n",
    "estimator = GridSearchCV(pipe,\n",
    "                         dict(pca__n_components=n_components))\n",
    "estimator.fit(X_train_tf.toarray(), y)"
   ]
  },
  {
   "cell_type": "code",
   "execution_count": 56,
   "metadata": {
    "collapsed": false
   },
   "outputs": [
    {
     "name": "stdout",
     "output_type": "stream",
     "text": [
      "0.799093997735\n",
      "{'pca__n_components': 2450}\n"
     ]
    }
   ],
   "source": [
    "print estimator.best_score_\n",
    "print estimator.best_params_"
   ]
  },
  {
   "cell_type": "code",
   "execution_count": null,
   "metadata": {
    "collapsed": true
   },
   "outputs": [],
   "source": [
    "cro"
   ]
  },
  {
   "cell_type": "code",
   "execution_count": 59,
   "metadata": {
    "collapsed": false
   },
   "outputs": [],
   "source": [
    "from sklearn.pipeline import Pipeline, FeatureUnion\n",
    "from sklearn.grid_search import GridSearchCV\n",
    "from sklearn.svm import SVC\n",
    "from sklearn.datasets import load_iris\n",
    "from sklearn.decomposition import PCA\n",
    "from sklearn.feature_selection import SelectKBest\n",
    "from sklearn.feature_extraction.text import CountVectorizer\n",
    "\n",
    "\n",
    "from sklearn.feature_extraction.text import TfidfTransformer\n",
    "\n",
    "# X_train_tf = sp.sparse.hstack((X_train_tf, char_counts))\n",
    "\n",
    "# This dataset is way to high-dimensional. Better do PCA:\n",
    "pca = PCA(n_components=2450)\n",
    "\n",
    "# Maybe some original features where good, too?\n",
    "# election = SelectKBest(k=500)\n",
    "\n",
    "# combined_features = FeatureUnion([(\"pca\", pca), (\"univ_select\", selection)])\n",
    "combined_features = FeatureUnion([(\"pca\", pca)])\n",
    "\n",
    "# Use combined features to transform dataset:\n",
    "X_features = combined_features.fit(X_train_tf.toarray(), y).transform(X_train_tf.toarray())\n",
    "# test_features = combined_features.transform(X_test_tf)"
   ]
  },
  {
   "cell_type": "code",
   "execution_count": 65,
   "metadata": {
    "collapsed": false
   },
   "outputs": [
    {
     "data": {
      "text/plain": [
       "GridSearchCV(cv=None, error_score='raise',\n",
       "       estimator=SVC(C=1.0, cache_size=200, class_weight=None, coef0=0.0,\n",
       "  decision_function_shape=None, degree=3, gamma='auto', kernel='rbf',\n",
       "  max_iter=-1, probability=False, random_state=None, shrinking=True,\n",
       "  tol=0.001, verbose=False),\n",
       "       fit_params={}, iid=True, n_jobs=1,\n",
       "       param_grid=[{'kernel': ['linear'], 'C': [1, 2, 3, 4, 5, 6, 7, 8]}],\n",
       "       pre_dispatch='2*n_jobs', refit=True, scoring=None, verbose=0)"
      ]
     },
     "execution_count": 65,
     "metadata": {},
     "output_type": "execute_result"
    }
   ],
   "source": [
    "tuned_parameters = [{'kernel': ['linear'], 'C': [1, 2, 3, 4,5,6,7,8]}, {'kernel': ['linear'], 'C': [1, 2, 3, 4,5,6,7,8]}]\n",
    "\n",
    "clf = GridSearchCV(SVC(), tuned_parameters)\n",
    "clf.fit(X_features, y)"
   ]
  },
  {
   "cell_type": "code",
   "execution_count": 67,
   "metadata": {
    "collapsed": false
   },
   "outputs": [
    {
     "name": "stdout",
     "output_type": "stream",
     "text": [
      "0.796149490374\n",
      "{'kernel': 'linear', 'C': 1}\n"
     ]
    }
   ],
   "source": [
    "print clf.best_score_\n",
    "print clf.best_params_"
   ]
  },
  {
   "cell_type": "code",
   "execution_count": 38,
   "metadata": {
    "collapsed": false
   },
   "outputs": [
    {
     "data": {
      "text/plain": [
       "<matplotlib.collections.PathCollection at 0x127ab40d0>"
      ]
     },
     "execution_count": 38,
     "metadata": {},
     "output_type": "execute_result"
    },
    {
     "data": {
      "image/png": "[encoded data removed]",
      "text/plain": [
       "<matplotlib.figure.Figure at 0x11afce590>"
      ]
     },
     "metadata": {},
     "output_type": "display_data"
    }
   ],
   "source": [
    "def words2Vectors(wordList, data):\n",
    "    vec = [0] * len(wordList)\n",
    "    for word in data:\n",
    "        if word in wordList:\n",
    "            vec[wordList.index(word)] = vec[wordList.index(word)] + 1 // +1\n",
    "    return vec\n",
    "\n",
    "def createWordList(wordContent):\n",
    "    # no word occur twice\n",
    "    wordSet = set()\n",
    "    for word in wordContent:\n",
    "        if word not in wordSet:\n",
    "            wordSet.add(word)\n",
    "    return list(wordSet)"
   ]
  },
  {
   "cell_type": "code",
   "execution_count": 434,
   "metadata": {
    "collapsed": false
   },
   "outputs": [],
   "source": [
    "# y,X=readdata(\"train.csv\")"
   ]
  },
  {
   "cell_type": "code",
   "execution_count": 435,
   "metadata": {
    "collapsed": false
   },
   "outputs": [],
   "source": [
    "# for i in range(0,len(X)):\n",
    "# for i in range(0,1):\n",
    "#     lines=removehtmltags(X[i])\n",
    "#     line=removebadtoken(line)\n",
    "#     lines=commentnormalizer(line)\n",
    "#     lines=Tokenization(line) \n",
    "#     lines=removestopwords(lines)\n",
    "#     lines=repeatreplace(lines)\n",
    "#     lines=commentcorrect(lines)\n",
    "#     lines=commentStemmer(lines)\n",
    "#     countbad=encountebadwords(lines)\n",
    "#     print len(lines)\n",
    "    "
   ]
  },
  {
   "cell_type": "code",
   "execution_count": null,
   "metadata": {
    "collapsed": true
   },
   "outputs": [],
   "source": []
  }
 ],
 "metadata": {
  "kernelspec": {
   "display_name": "Python 2",
   "language": "python",
   "name": "python2"
  },
  "language_info": {
   "codemirror_mode": {
    "name": "ipython",
    "version": 2
   },
   "file_extension": ".py",
   "mimetype": "text/x-python",
   "name": "python",
   "nbconvert_exporter": "python",
   "pygments_lexer": "ipython2",
   "version": "2.7.11"
  }
 },
 "nbformat": 4,
 "nbformat_minor": 0
}
