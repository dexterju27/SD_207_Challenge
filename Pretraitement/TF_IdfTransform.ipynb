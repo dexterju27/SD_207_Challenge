{
 "cells": [
  {
   "cell_type": "code",
   "execution_count": 44,
   "metadata": {
    "collapsed": false
   },
   "outputs": [],
   "source": [
    "import numpy as np\n",
    "import scipy.sparse as sp\n",
    "from sklearn.utils.validation import check_is_fitted\n",
    "from sklearn.preprocessing import normalize\n",
    "\n",
    "def _document_frequency(X):\n",
    "    if sp.isspmatrix_csr(X):\n",
    "        return bincount(X.indices, minlength=X.shape[1])\n",
    "    else:\n",
    "        return np.diff(sp.csc_matrix(X, copy=False).indptr)\n",
    "class TfidfTransformer():\n",
    "    def __init__(self, norm='l2', use_idf=True, smooth_idf=True,\n",
    "                 sublinear_tf=False):\n",
    "        self.norm = norm\n",
    "        self.use_idf = use_idf\n",
    "        self.smooth_idf = smooth_idf\n",
    "        self.sublinear_tf = sublinear_tf\n",
    "\n",
    "    def fit(self, X, y=None):\n",
    "        if not sp.issparse(X):\n",
    "            X = sp.csc_matrix(X)\n",
    "        if self.use_idf:\n",
    "            n_samples, n_features = X.shape\n",
    "            df = _document_frequency(X)\n",
    "            \n",
    "            # perform idf smoothing if required\n",
    "            df += int(self.smooth_idf)\n",
    "            n_samples += int(self.smooth_idf)\n",
    "\n",
    "            # original formula is  tf* idf, now we use (tf* (1+idf)) === log+1 instead of\n",
    "            # log makes sure terms with zero idf don't get suppressed entirely.\n",
    "            idf = np.log(float(n_samples) / df) + 1.0\n",
    "            self._idf_diag = sp.spdiags(idf,\n",
    "                                        diags=0, m=n_features, n=n_features)\n",
    "\n",
    "        return self\n",
    "\n",
    "    def transform(self, X, copy=True):\n",
    "        if hasattr(X, 'dtype') and np.issubdtype(X.dtype, np.float):\n",
    "            X = sp.csr_matrix(X, copy=copy)\n",
    "        else:\n",
    "            X = sp.csr_matrix(X, dtype=np.float64, copy=copy)\n",
    "\n",
    "        n_samples, n_features = X.shape\n",
    "\n",
    "        if self.sublinear_tf:\n",
    "            np.log(X.data, X.data)\n",
    "            X.data += 1\n",
    "\n",
    "        if self.use_idf:\n",
    "            check_is_fitted(self, '_idf_diag', 'sorry,idf vector is not fitted-_-')\n",
    "\n",
    "            expected_n_features = self._idf_diag.shape[0]\n",
    "            if n_features != expected_n_features:\n",
    "                raise ValueError(\"Oh,input has n_features=%d while the model\"\n",
    "                                 \" has been trained with n_features=%d,please check it first\" % (\n",
    "                                     n_features, expected_n_features))\n",
    "            # why *= += can't work in python??????\n",
    "            X = X * self._idf_diag\n",
    "\n",
    "        if self.norm:\n",
    "            X = normalize(X, norm=self.norm, copy=False)\n",
    "\n",
    "        return X\n",
    "\n",
    "    def fit_transform(self, X, y=None, **fit_params):\n",
    "        if y is None:\n",
    "            return self.fit(X, **fit_params).transform(X)\n",
    "        else:\n",
    "            return self.fit(X, y, **fit_params).transform(X)\n"
   ]
  },
  {
   "cell_type": "code",
   "execution_count": 41,
   "metadata": {
    "collapsed": false
   },
   "outputs": [
    {
     "data": {
      "text/plain": [
       "array([[ 0.        ,  0.        ,  1.        ],\n",
       "       [ 0.79596054,  0.60534851,  0.        ],\n",
       "       [ 0.        ,  1.        ,  0.        ]])"
      ]
     },
     "execution_count": 41,
     "metadata": {},
     "output_type": "execute_result"
    }
   ],
   "source": [
    "R.fit_transform(a).toarray()"
   ]
  },
  {
   "cell_type": "code",
   "execution_count": 42,
   "metadata": {
    "collapsed": false
   },
   "outputs": [],
   "source": [
    "R=TfidfTransformer()"
   ]
  },
  {
   "cell_type": "code",
   "execution_count": 43,
   "metadata": {
    "collapsed": false
   },
   "outputs": [
    {
     "data": {
      "text/plain": [
       "array([[ 0.        ,  0.        ,  1.        ],\n",
       "       [ 0.79596054,  0.60534851,  0.        ],\n",
       "       [ 0.        ,  1.        ,  0.        ]])"
      ]
     },
     "execution_count": 43,
     "metadata": {},
     "output_type": "execute_result"
    }
   ],
   "source": [
    "a=[[0,0,1],[1,1,0],[0,2,0]]\n",
    "R.fit(a)\n",
    "R.transform(a).toarray()"
   ]
  }
 ],
 "metadata": {
  "kernelspec": {
   "display_name": "Python 2",
   "language": "python",
   "name": "python2"
  },
  "language_info": {
   "codemirror_mode": {
    "name": "ipython",
    "version": 2
   },
   "file_extension": ".py",
   "mimetype": "text/x-python",
   "name": "python",
   "nbconvert_exporter": "python",
   "pygments_lexer": "ipython2",
   "version": "2.7.11"
  }
 },
 "nbformat": 4,
 "nbformat_minor": 0
}
