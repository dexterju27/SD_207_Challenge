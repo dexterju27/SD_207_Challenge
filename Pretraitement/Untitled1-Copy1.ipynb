{
 "cells": [
  {
   "cell_type": "code",
   "execution_count": 2,
   "metadata": {
    "collapsed": true
   },
   "outputs": [],
   "source": [
    "import numpy as np\n"
   ]
  },
  {
   "cell_type": "code",
   "execution_count": 2,
   "metadata": {
    "collapsed": false
   },
   "outputs": [],
   "source": [
    "import numpy as np\n",
    "# SVM PAR SMO (Sequential Minimal Optimization) simple\n",
    "# Da JU\n",
    "# algotithme platt SMO reference Machine Learning in action \n",
    "def selectJ(i, t):\n",
    "    # according to the alpha1 we should choose the second alpha, t is the number of alphas.\n",
    "    j = i\n",
    "    while (j == i):\n",
    "        j = int(np.random.uniform(0, t))\n",
    "    return j\n",
    "\n",
    "def clipAlpha(aj, H, L):\n",
    "    if aj > H:\n",
    "        aj = H\n",
    "    if L > aj:\n",
    "        aj = L\n",
    "    return aj    "
   ]
  },
  {
   "cell_type": "code",
   "execution_count": null,
   "metadata": {
    "collapsed": true
   },
   "outputs": [],
   "source": [
    "def SVM_simple(X, y, C, tol, maxIter):\n",
    "    X = np.array(X)\n",
    "    y = np.array(y) # change to np.array\n",
    "    b = 0.;\n",
    "    n, t = X.shape;\n",
    "    alphas = np.zeros((n,1))\n",
    "    k = 0\n",
    "    for k in np.arange(0, maxIter):\n",
    "        alpha_changed = 0\n",
    "        for i in np.arange(0, n):\n",
    "            fi = np.multiply(alphas, y).T * (X * X[i,:].T) + b \n",
    "            ei = fi - y[i]\n",
    "            if ((y[i] * ei < -tol) and (alphas[i] < C)) or ((y[i] * ei > tol) and (alphas[i] > 0)):\n",
    "                # if alpha can be imporved\n",
    "                # randomly pick the second alpha\n",
    "                j = selectJ(i, n)\n",
    "                fj = np.multiply(alphas, y).T * (X * X[j,:].T) + b\n",
    "                ej =  fj - y[j]\n",
    "                aplphaIk = alphas[i].copy()\n",
    "                aplphaJk = alphas[j].copy()\n",
    "                if (y[i] != y[j]):\n",
    "                    L = np.max(0, alphas[j] - alphas[i])\n",
    "                    H = np.min(C, C + alphas[j] - alphas[i])\n",
    "                else:\n",
    "                    L = np.max(0, alphas[j] + alphas[i] - C)\n",
    "                    H = np.min(C, alphas[j] + alphas[i])\n",
    "                    if L == H:\n",
    "                        continue\n",
    "                    eta = 2.0 * X[i,:]*X[j,:].T - X[i,:]*X[i,:].T - X[j,:]*X[j,:].T\n",
    "                    if eta >= 0:\n",
    "                        continue\n",
    "                    alphas[j] =alphas[j] -  (y[j] * (ei - ej) ) / eta\n",
    "                    alphas[j] = clipAlpha(alphas[j], H, L)\n",
    "                    if (abs(alphas[j] - aplphaJk) < tol):\n",
    "                        continue\n",
    "                    alphas[i] =  alphas[i] + y[i]* y[i]*(aplphaJk - alphas[j])\n",
    "                    b1 = b - ei - y[i] * (alphas[i] - aplphaIk)* y[i,:]*y[i,:].T -y[j]*(alphas[j] - aplphaJk)* X[i,:] * X[j,:].T\n",
    "                    \n",
    "                    \n",
    "                    \n",
    "                        \n",
    "        \n",
    "        "
   ]
  }
 ],
 "metadata": {
  "kernelspec": {
   "display_name": "Python 2",
   "language": "python",
   "name": "python2"
  },
  "language_info": {
   "codemirror_mode": {
    "name": "ipython",
    "version": 2
   },
   "file_extension": ".py",
   "mimetype": "text/x-python",
   "name": "python",
   "nbconvert_exporter": "python",
   "pygments_lexer": "ipython2",
   "version": "2.7.11"
  }
 },
 "nbformat": 4,
 "nbformat_minor": 0
}
